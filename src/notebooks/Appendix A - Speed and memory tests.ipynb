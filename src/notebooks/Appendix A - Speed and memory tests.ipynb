{
 "cells": [
  {
   "cell_type": "code",
   "execution_count": null,
   "metadata": {
    "collapsed": false
   },
   "outputs": [],
   "source": [
    "import sys\n",
    "sys.path.append(\"..\")\n",
    "from MSOModelModule.fancyPlot import basiccolors, cleanAxes\n",
    "from matplotlib import pyplot as plt\n",
    "colors = basiccolors()"
   ]
  },
  {
   "cell_type": "markdown",
   "metadata": {},
   "source": [
    "# Speed and memory test for code variations\n",
    "\n",
    "This notebook shows the results of several memory and speed tests, including the shell commands that can be used to run these tests. \n",
    "\n",
    "**Note**: Do *not* rely on the iPython notebook for the memory tests. Due to the way the Kernel stores variables the memory usage will seem larger than it actually is.  "
   ]
  },
  {
   "cell_type": "markdown",
   "metadata": {},
   "source": [
    "## Memory test for various batchsizes"
   ]
  },
  {
   "cell_type": "raw",
   "metadata": {},
   "source": [
    "python ../MSOModelModule/core.py --t 100000 --b 1000 --v 3.0 --i 500 --M 1 --d 0.005 --I '[2.0]' --T 4.0 --memorySavingMode 0 --profileBatch"
   ]
  },
  {
   "cell_type": "code",
   "execution_count": null,
   "metadata": {
    "collapsed": false
   },
   "outputs": [],
   "source": [
    "batchsizes = [80, 100, 200, 500, 1000, 2000]\n",
    "mode_0 = [897.34375, 1294.8828125, 2184.8984375, 3563.3515625, 6751.71484375, 9723.4375]\n",
    "mode_1 = [356.17578125, 562.07421875, 1032.296875, 1739.27734375, 3335.63671875, 5732.078125]\n",
    "mode_2 = [225.03125, 302.9375, 554.4921875, 924.00390625, 1762.6328125, 3486.859375]\n",
    "\n",
    "fig, ax = plt.subplots(1, figsize=(8, 4))\n",
    "ax.plot(batchsizes, mode_0, color=colors[0], lw=2.0, marker=\"d\", label=\"Mode 0\")\n",
    "ax.plot(batchsizes, mode_1, color=colors[1], lw=2.0, marker=\"o\", label=\"Mode 1\")\n",
    "ax.plot(batchsizes, mode_2, color=colors[2], lw=2.0, marker=\"*\", label=\"Mode 2\")\n",
    "ax.set_xlabel('Batchsize')\n",
    "ax.set_ylabel('Memory usage (MB)')\n",
    "ax.legend(loc=2, frameon=False, fontsize=19)\n",
    "cleanAxes([ax])\n",
    "plt.tight_layout()\n",
    "plt.savefig('figures/appendixa/memTestBatch.pdf')\n",
    "plt.show()"
   ]
  },
  {
   "cell_type": "markdown",
   "metadata": {},
   "source": [
    "## Memory test for various number of MSO neurons"
   ]
  },
  {
   "cell_type": "raw",
   "metadata": {},
   "source": [
    "python ../MSOModelModule/core.py --t 200 --b 100 --v 3.0 --i 500 --M 1 --d 0.005 --I '[2.0]' --T 4.0 --memorySavingMode 0 --profileMSOneurons"
   ]
  },
  {
   "cell_type": "code",
   "execution_count": null,
   "metadata": {
    "collapsed": false
   },
   "outputs": [],
   "source": [
    "MSO_neurons = [1, 2, 4, 8, 20, 50, 100]\n",
    "mode_0 = [1093.62109375, 1778.1171875, 2159.1875, 3618.484375, 7754.6484375, 8920.28125, 9102.19140625]\n",
    "mode_1 = [427.83203125, 764.375, 1103.76171875, 1794.4921875, 3826.40234375, 8901.85546875, 11660.1015625]\n",
    "mode_2 = [267.234375, 268.49609375, 270.16015625, 272.08203125, 280.8828125, 297.2109375, 319.88671875]\n",
    "\n",
    "fig, ax = plt.subplots(1, figsize=(8, 4))\n",
    "ax.plot(MSO_neurons, mode_0, color=colors[0], lw=2.0, marker=\"d\", label=\"Mode 0\")\n",
    "ax.plot(MSO_neurons, mode_1, color=colors[1], lw=2.0, marker=\"o\", label=\"Mode 1\")\n",
    "ax.plot(MSO_neurons, mode_2, color=colors[2], lw=2.0, marker=\"*\", label=\"Mode 2\")\n",
    "ax.set_xlabel('No. of MSO neurons')\n",
    "ax.set_ylabel('Memory usage (MB)')\n",
    "ax.legend(loc=2, frameon=False, fontsize=19, bbox_to_anchor=(0.0, 1.1))\n",
    "cleanAxes([ax])\n",
    "plt.tight_layout()\n",
    "plt.savefig('figures/appendixa/memTestMSO.pdf')\n",
    "plt.show()"
   ]
  },
  {
   "cell_type": "markdown",
   "metadata": {},
   "source": [
    "## Speed test for various batch sizes\n",
    "\n",
    "For the speed test all batches will run until they sum up to the same total time"
   ]
  },
  {
   "cell_type": "raw",
   "metadata": {},
   "source": [
    "python ../MSOModelModule/core.py --t 200 --b 100 --v 3.0 --i 500 --M 1 --d 0.005 --I '[2.0]' --T 4.0 --memorySavingMode 0 —speedtest"
   ]
  },
  {
   "cell_type": "code",
   "execution_count": null,
   "metadata": {
    "collapsed": false
   },
   "outputs": [],
   "source": [
    "batchsizes = [80, 100, 200, 500, 1000, 2000]\n",
    "\n",
    "mode_0 = [71.93987489, 69.89002299, 72.69163179, 74.53558207, 75.24955702, 83.31504488]\n",
    "mode_1 = [75.19978499, 73.92276311, 72.28623915, 76.70299077, 74.43069196, 74.95429921]\n",
    "mode_2 = [79.85361195, 78.428828, 77.84217286, 80.44880509, 73.38288808, 74.691746  ]\n",
    "\n",
    "fig, ax = plt.subplots(1, figsize=(8, 4))\n",
    "ax.plot(batchsizes, mode_0, color=colors[0], lw=2.0, marker=\"d\", label=\"Mode 0\")\n",
    "ax.plot(batchsizes, mode_1, color=colors[1], lw=2.0, marker=\"o\", label=\"Mode 1\")\n",
    "ax.plot(batchsizes, mode_2, color=colors[2], lw=2.0, marker=\"*\", label=\"Mode 2\")\n",
    "ax.set_xlabel('Batchsize')\n",
    "ax.set_ylabel('Run time (seconds)')\n",
    "ax.set_ylim([60, 100])\n",
    "ax.legend(loc=2, frameon=False, fontsize=19)\n",
    "cleanAxes([ax])\n",
    "plt.tight_layout()\n",
    "plt.savefig('figures/appendixa/speedTestBatch.pdf')\n",
    "plt.show()"
   ]
  },
  {
   "cell_type": "markdown",
   "metadata": {},
   "source": [
    "## Speed test for various number of MSO neurons"
   ]
  },
  {
   "cell_type": "raw",
   "metadata": {},
   "source": [
    "python ../MSOModelModule/core.py --t 200 --b 100 --v 3.0 --i 500 --M 1 --d 0.005 --I '[2.0]' --T 4.0 --memorySavingMode 0 --speedTestMSO"
   ]
  },
  {
   "cell_type": "code",
   "execution_count": null,
   "metadata": {
    "collapsed": false
   },
   "outputs": [],
   "source": [
    "MSO_neurons = [1, 2, 4, 8, 20, 50, 100]\n",
    "mode_0 = [3.81854606, 5.61840701, 9.07747602, 15.67999887, 46.39822507, 205.58969188, 1959.65922499]\n",
    "mode_1 = [3.8966341, 4.991256, 6.94584417, 10.64918303, 23.09755397, 65.61181307, 148.74470901]\n",
    "mode_2 = [3.71844292, 4.19347596, 5.12449598, 6.92156506, 12.58354616, 29.4170742, 63.77098989]\n",
    "\n",
    "fig, ax = plt.subplots(1, figsize=(8, 4))\n",
    "ax.plot(MSO_neurons, mode_0, color=colors[0], lw=2.0, marker=\"d\", label=\"Mode 0\")\n",
    "ax.plot(MSO_neurons, mode_1, color=colors[1], lw=2.0, marker=\"o\", label=\"Mode 1\")\n",
    "ax.plot(MSO_neurons, mode_2, color=colors[2], lw=2.0, marker=\"*\", label=\"Mode 2\")\n",
    "ax.set_xlabel('No. of MSO neurons')\n",
    "ax.set_ylabel('Run time (s)')\n",
    "ax.legend(loc=2, frameon=False, fontsize=19, bbox_to_anchor=(0.0, 1.1))\n",
    "cleanAxes([ax])\n",
    "plt.tight_layout()\n",
    "plt.savefig('figures/appendixa/speedTestMSO.pdf')\n",
    "plt.show()\n"
   ]
  },
  {
   "cell_type": "markdown",
   "metadata": {},
   "source": [
    "## Speed test for parallelisation \n",
    "\n",
    "**Note** The parallel code is not thoroughly test, and some preliminary tests showed unexpected behaviour where sometimes weights of particular batches were not updated. This is possibly caused by the usage of shared memory in the MSO class, which future implementations should avoid. "
   ]
  },
  {
   "cell_type": "code",
   "execution_count": null,
   "metadata": {
    "collapsed": false
   },
   "outputs": [],
   "source": [
    "parallel_1 = [3.71844292, 4.19347596, 5.12449598, 6.92156506, 12.58354616, 29.4170742, 63.77098989]\n",
    "parallel_8 = [7.82792807, 8.08430696, 8.41040111, 9.03768206, 11.0801928, 15.29816985, 22.45261288]\n",
    "parallel_4 = [4.26323295, 4.30348015, 4.35653496, 5.01869011, 6.74043489, 11.11907196, 19.63360691]\n",
    "parallel_2 = [4.17172408, 4.16413689, 4.67471313, 5.69143605, 8.55933905, 16.33512807, 31.22348118]\n",
    "\n",
    "fig, ax = plt.subplots(1, figsize=(8, 4))\n",
    "ax.plot(MSO_neurons, parallel_1, color=colors[0], lw=2.0, marker=\"d\", label=\"Parallel 1\")\n",
    "ax.plot(MSO_neurons, parallel_2, color=colors[1], lw=2.0, marker=\"o\", label=\"Parallel 2\")\n",
    "ax.plot(MSO_neurons, parallel_4, color=colors[2], lw=2.0, marker=\"*\", label=\"Parallel 4\")\n",
    "ax.plot(MSO_neurons, parallel_8, color=colors[3], lw=2.0, marker=\"*\", label=\"Parallel 8\")\n",
    "ax.set_xlabel('No. of MSO neurons')\n",
    "ax.set_ylabel('Run time (s)')\n",
    "ax.legend(loc=2, frameon=False, fontsize=19, bbox_to_anchor=(0.0, 1.1))\n",
    "cleanAxes([ax])\n",
    "plt.tight_layout()\n",
    "plt.savefig('figures/appendixa/parallelTest.pdf')\n",
    "plt.show()"
   ]
  },
  {
   "cell_type": "code",
   "execution_count": null,
   "metadata": {
    "collapsed": true
   },
   "outputs": [],
   "source": []
  }
 ],
 "metadata": {
  "kernelspec": {
   "display_name": "Python 2",
   "language": "python",
   "name": "python2"
  },
  "language_info": {
   "codemirror_mode": {
    "name": "ipython",
    "version": 2
   },
   "file_extension": ".py",
   "mimetype": "text/x-python",
   "name": "python",
   "nbconvert_exporter": "python",
   "pygments_lexer": "ipython2",
   "version": "2.7.11"
  }
 },
 "nbformat": 4,
 "nbformat_minor": 1
}
