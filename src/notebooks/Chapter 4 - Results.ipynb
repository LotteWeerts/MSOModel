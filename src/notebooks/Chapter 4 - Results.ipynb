{
 "cells": [
  {
   "cell_type": "code",
   "execution_count": null,
   "metadata": {
    "collapsed": false
   },
   "outputs": [],
   "source": [
    "import sys\n",
    "sys.path.append(\"..\")\n",
    "from MSOModelModule.fancyPlot import *\n",
    "from matplotlib import pyplot as plt\n",
    "import gzip, json\n",
    "import numpy as np"
   ]
  },
  {
   "cell_type": "markdown",
   "metadata": {},
   "source": [
    "# Chapter 4 - Results\n",
    "\n",
    "This notebook reproduces all graphs presented in chapter 4 of the thesis. Note that, to reduce the file size, we have included a reduced version of the data in this repository. Please email **lw1115 [at] ic.ac.uk** if you would like to have the full data set (including e.g. original spike trains and all weights over time). \n",
    "\n",
    "Most simulations of 50 neurons took approximatel 40 hours to run for 1000 s (20000000 timesteps) of simulations. "
   ]
  },
  {
   "cell_type": "markdown",
   "metadata": {},
   "source": [
    "## Figure 4.1\n",
    "\n",
    "Before and after learning delay distributions"
   ]
  },
  {
   "cell_type": "code",
   "execution_count": null,
   "metadata": {
    "collapsed": false,
    "scrolled": false
   },
   "outputs": [],
   "source": [
    "colors = basiccolors()\n",
    "\n",
    "paths = ['../../data/13-47-26', '../../data/14-28-20']\n",
    "\n",
    "t = 0\n",
    "plotDelays(paths[0], 0, 0)\n",
    "plt.tight_layout()\n",
    "plt.savefig('figures/chapter4/before_delays.pdf')\n",
    "\n",
    "t = 100000000\n",
    "plotDelays(paths[0], t, 0)\n",
    "plt.tight_layout()\n",
    "plt.savefig('figures/chapter4/t4_after_delays.pdf')\n",
    "plt.show()\n",
    "\n",
    "t = 100000000\n",
    "plotDelays(paths[1], t, 0)\n",
    "plt.tight_layout()\n",
    "plt.savefig('figures/chapter4/t1_after_delays.pdf')\n",
    "plt.show()\n"
   ]
  },
  {
   "cell_type": "markdown",
   "metadata": {},
   "source": [
    "## Figure 4.2\n",
    "\n",
    "Weight development over time ITD curves (VS and ITD) after training. Note that we use precomputed values for faster presentation. You can disable this by putting \"precomputed\" to False, but this will make the image rendering much slower, and you require the full data set rather than the reduced version. "
   ]
  },
  {
   "cell_type": "code",
   "execution_count": null,
   "metadata": {
    "collapsed": false,
    "scrolled": false
   },
   "outputs": [],
   "source": [
    "ts = np.linspace(200000, 200000000, 100)\n",
    "paths = ['../../data/14-28-20', '../../data/13-53-25', \n",
    "         '../../data/21-51-31', '../../data/21-52-52_2']\n",
    "colors = ['#0083d9', '#008b4e', '#ffac00', '#DD1E2F', '#192823']        \n",
    "labels = ['T = 1 ms', 'T = 2 ms', 'T = 3 ms', 'T = 4 ms', 'No learning']\n",
    "plotWeightEvolvement(paths, labels, ts, colors)\n",
    "plt.savefig('figures/chapter4/weight_evolvement_various_frequencies.pdf')\n",
    "plt.show()\n"
   ]
  },
  {
   "cell_type": "code",
   "execution_count": null,
   "metadata": {
    "collapsed": false,
    "scrolled": false
   },
   "outputs": [],
   "source": [
    "refVals = [0.63, 0.77, 0.82, 0.84]\n",
    "paths = ['../../data/14-28-20', '../../data/13-53-25', \n",
    "         '../../data/21-51-31', '../../data/21-52-52']\n",
    "colors = ['#0083d9', '#008b4e', '#ffac00', '#DD1E2F', '#192823']        \n",
    "for i, path in enumerate(paths):\n",
    "    plotITDCurves([path], [colors[i]], precomputed=True, includePhaseLock=True, refvals=[refVals[i]])\n",
    "    plt.savefig('figures/chapter4/mfr_vs_variousfreq_{}.pdf'.format(i + 1))\n",
    "    plt.show()"
   ]
  },
  {
   "cell_type": "code",
   "execution_count": null,
   "metadata": {
    "collapsed": false
   },
   "outputs": [],
   "source": [
    "paths = ['../../data/14-28-20', '../../data/13-53-25', \n",
    "         '../../data/21-51-31', '../../data/21-52-52']\n",
    "colors = ['#0083d9', '#008b4e', '#ffac00', '#DD1E2F', '#192823']        \n",
    "labels = ['1', '2', '3', '4']\n",
    "x = loadMeasurementsPerItd(paths, [0, 1, 2, 3], [0, 0, 0, 0])\n",
    "modpre_per_itd, vspre_per_itd, mod_per_itd, vs_per_itd, nr_per_itd, itdoptions = x\n",
    "plotModulationWithoutBefore(mod_per_itd, labels, 'Modulation', colors)\n",
    "plt.title(r'T')\n",
    "plt.savefig('figures/chapter4/modulation_various_frequencies.pdf')\n",
    "plt.show()"
   ]
  },
  {
   "cell_type": "markdown",
   "metadata": {},
   "source": [
    "## Figure 4.3\n",
    "\n",
    "Weight evolvement and VS/MFR curves for different A+ and A- values"
   ]
  },
  {
   "cell_type": "code",
   "execution_count": null,
   "metadata": {
    "collapsed": false
   },
   "outputs": [],
   "source": [
    "ts = np.linspace(200000, 200000000, 100)\n",
    "paths = ['../../data/16-07-58', '../../data/16-07-43', \n",
    "         '../../data/21-52-52', '../../data/16-08-11']\n",
    "colors = ['#0083d9', '#008b4e', '#ffac00', '#DD1E2F', '#192823']        \n",
    "labels = ['$A_+$= 0.1', '$A_+$= 0.01', '$A_+$= 0.001', '$A_+$= 0.0001']\n",
    "\n",
    "plotWeightEvolvement(paths, labels, ts, colors)\n",
    "plt.savefig('figures/chapter4/weight_evolvement_variousA.pdf')\n",
    "plt.show()\n",
    "\n",
    "plotITDCurves(paths, colors, precomputed=True)\n",
    "plt.savefig('figures/chapter4/mfr_vs_variousA.pdf')\n",
    "plt.show()\n",
    "\n",
    "labels = ['0.1', '0.01', '0.001', '0.001']\n",
    "x = loadMeasurementsPerItd(paths, [0, 1, 2, 3], [0, 0, 0, 0])\n",
    "modpre_per_itd, vspre_per_itd, mod_per_itd, vs_per_itd, nr_per_itd, itdoptions = x\n",
    "plotModulationWithoutBefore(mod_per_itd, labels, 'Modulation', colors)\n",
    "plt.title(r'$A_{+/-}$')\n",
    "plt.savefig('figures/chapter4/modulation_various_A.pdf')\n",
    "plt.show()"
   ]
  },
  {
   "cell_type": "markdown",
   "metadata": {},
   "source": [
    "## Figure 4.3\n",
    "\n",
    "Weight evolvement and VS/MFR curves for different tau+ and tau- values"
   ]
  },
  {
   "cell_type": "code",
   "execution_count": null,
   "metadata": {
    "collapsed": false,
    "scrolled": false
   },
   "outputs": [],
   "source": [
    "ts = np.linspace(200000, 200000000, 100)\n",
    "paths = ['../../data/22-14-23', '../../data/22-14-08', '../../data/22-15-28', \n",
    "         '../../data/22-15-15', '../../data/21-52-52', '../../data/22-14-41']\n",
    "labels = [r'$\\tau_+$ = {}'.format(i) for i in [0.1, 1.0, 5.0, 10, 20, 50]]\n",
    "colors = np.roll(['#008b4e', '#0083d9', '#8a4df4', '#DD1E2F', '#ff8700', '#f6de2f'], 2)      \n",
    "\n",
    "plotWeightEvolvement(paths, labels, ts, colors)\n",
    "plt.savefig('figures/chapter4/weight_evolvement_various_tau.pdf')\n",
    "plt.show()\n",
    "\n",
    "ylim  = [900.0, 1800.0]\n",
    "ylim2 = [0.0, 500.0]\n",
    "yticks = [1000, 1200, 1400, 1600, 1800]\n",
    "yticks2 = [0, 200, 400]\n",
    "labels = [0.1, 1.0, 5.0, 10, 20, 50]\n",
    "plotITDCurves(paths, colors, True, False, (ylim, ylim2, yticks, yticks2))\n",
    "plt.savefig('figures/chapter4/mfr_vs_various_tau.pdf')\n",
    "plt.show()\n",
    "\n",
    "labels = ['0.1', '1.0', '5.0', '10', '20', '50']\n",
    "x = loadMeasurementsPerItd(paths, [0, 1, 2, 3, 4, 5, 6], [0, 0, 0, 0, 0, 0])\n",
    "modpre_per_itd, vspre_per_itd, mod_per_itd, vs_per_itd, nr_per_itd, itdoptions = x\n",
    "plotModulationWithoutBefore(mod_per_itd, labels, 'Modulation', colors)\n",
    "plt.title(r'$\\tau_{+/-}$ (ms)')\n",
    "plt.savefig('figures/chapter4/modulation_various_tau.pdf')\n",
    "plt.show()"
   ]
  },
  {
   "cell_type": "markdown",
   "metadata": {},
   "source": [
    "## Figure 4.5\n",
    "\n",
    "The neurons are sorted by their best ITD, which creates a diagonal structure. The mean firing rate is normalised by the maximum firing rate, making it range up to 1. Upper panel shows before and lower panel shows after monaural responsive neurons have been removed. "
   ]
  },
  {
   "cell_type": "code",
   "execution_count": null,
   "metadata": {
    "collapsed": false,
    "scrolled": false
   },
   "outputs": [],
   "source": [
    "colors = ['#0083d9', '#008b4e', '#ffac00', '#DD1E2F']        \n",
    "rvb = makeColorMap(colors)\n",
    "paths = ['../../data/18-29-33', '../../data/18-31-51', \n",
    "         '../../data/18-30-34', '../../data/18-31-27']\n",
    "test_nr = [0, 1, 0, 0, 0, 0, 0, 0, 0] #, 0]\n",
    "itdoptions = np.linspace(-2.0, 2.0, 17)\n",
    "labels = ['Task / Batchsize 1000', 'Task / Batchsize 100', 'Random / Batchsize 1000', 'Random / Batchsize 100']\n",
    "\n",
    "for i, path in enumerate(paths):\n",
    "    print labels[i]\n",
    "    plotMeanFiringRateImshow(path, labels[i], rvb, test_nr[i])\n",
    "    plt.savefig('figures/chapter4/imshowMFR_{}.pdf'.format(i))\n",
    "    plt.show()\n",
    "\n",
    "plt.show()"
   ]
  },
  {
   "cell_type": "markdown",
   "metadata": {},
   "source": [
    "## Figure 4.6\n",
    "\n",
    "The weight development, distribution and modulation over four different input types (random with batchsize 1000 ms or 100 ms and task with batchsize 1000ms or 100ms)"
   ]
  },
  {
   "cell_type": "code",
   "execution_count": null,
   "metadata": {
    "collapsed": false,
    "scrolled": false
   },
   "outputs": [],
   "source": [
    "paths = [ '../../data/18-29-23', # '../2016-08-29/20-58-53',\n",
    "         '../../data/18-29-33', '../../data/18-29-43', \n",
    "         '../../data/18-31-42', '../../data/18-31-51', \n",
    "         '../../data/18-30-34', '../../data/18-30-40',\n",
    "         '../../data/18-31-19', '../../data/18-31-27',\n",
    "         '../../data/14-55-17'] \n",
    "\n",
    "\n",
    "colors = ['#0083d9', '#008b4e', '#ffac00', '#DD1E2F', '#192823']\n",
    "ids = [0, 0, 0, 1, 1, 2, 2, 3, 3, 4]\n",
    "test_nr = [0, 0, 0, 1, 1, 0, 0, 0, 0, 0]\n",
    "nr_sim = [3, 2, 2, 2, 1]\n",
    "modpre_per_itd, vspre_per_itd, mod_per_itd, vs_per_itd, nr_per_itd, itdoptions = loadMeasurementsPerItd(paths, ids, test_nr)\n",
    "ts = np.linspace(200000, 200000000, 100)\n",
    "\n",
    "labels = ['Task / Batchsize 1000', 'Task / Batchsize 100', 'Random / Batchsize 1000', 'Random / Batchsize 100', 'No learning']\n",
    "\n",
    "plotWeightEvolvementsClasses(paths[:-1], colors, labels[:-1], ts, ids[:-1], nr_sim[:-1])\n",
    "plt.tight_layout()\n",
    "plt.savefig('figures/chapter4/weightevolvement_varying.pdf')\n",
    "plt.show()\n",
    "\n",
    "labels = ['A', 'B', 'C', 'D', 'N']\n",
    "\n",
    "plotDistribution(labels, colors, nr_per_itd, itdoptions, zero=False)\n",
    "plt.savefig('figures/chapter4//varying_BITDs.pdf')\n",
    "plt.show()\n",
    "   \n",
    "plotModulationOrVectorstrength(mod_per_itd, modpre_per_itd, labels, 'Modulation $M$', colors)\n",
    "plt.tight_layout()\n",
    "plt.savefig('figures/chapter4/varying_modulation.pdf')\n",
    "\n",
    "plotModulationOrVectorstrength(vs_per_itd, vspre_per_itd, labels, 'Vector strength $V$', colors)\n",
    "plt.tight_layout()\n",
    "plt.savefig('figures/chapter4/varying_vs.pdf')\n",
    "plt.show()\n",
    "\n"
   ]
  },
  {
   "cell_type": "markdown",
   "metadata": {},
   "source": [
    "## Figure 4.7\n",
    "\n",
    "These are the results for the task related and random ITD sequences over a range [-0.5, 0.5] and various frequencies"
   ]
  },
  {
   "cell_type": "code",
   "execution_count": null,
   "metadata": {
    "collapsed": false,
    "scrolled": false
   },
   "outputs": [],
   "source": [
    "colors = ['#008b4e', '#0083d9', '#8a4df4', '#DD1E2F', '#ff8700', '#f6de2f']  \n",
    "\n",
    "ts = np.linspace(200000, 200000000, 100)\n",
    "\n",
    "paths = ['../../data/18-30-34', '../../data/18-30-40',  # 4.0 / Random / 1000\n",
    "        '../../data/18-31-19', '../../data/18-31-27',   # 4.0 / Random / 100 \n",
    "        '../../data/11-32-23', '../../data/17-23-05',   # 4.0 / Random (shorter) / 100\n",
    "        '../../data/13-27-29', '../../data/13-27-35',   # 2.0 / Random (shorter) / 100\n",
    "        '../../data/13-27-17',                               # 1.0 / Random / 100 \n",
    "        '../../data/18-31-42', '../../data/18-31-51',   # 4.0 / Task ITD / 100\n",
    "        '../../data/13-27-57', '../../data/13-28-06',   # 2.0 / Task / 100\n",
    "        '../../data/11-32-51', '../../data/13-26-23',   # 1.0 / Task / 100\n",
    "        '../../data/18-29-23',                               # 4.0 / Task ITD / 1000\n",
    "        '../../data/18-29-33', '../../data/18-29-43', \n",
    "        '../../data/14-55-17', '../../data/14-55-17_2']     # No learning\n",
    "\n",
    "ids = [0, 0, 1, 1, 2, 2, 3, 3, 4, 5, 5, 6, 6, 7, 7, 8, 8, 8, 9, 10]\n",
    "nr_sim = [2, 2, 2, 2, 1, 2, 2, 2, 3, 1, 1]\n",
    "\n",
    "labels = ['Random / 4.0 / 1000 / [-2, 2]',\n",
    "          'Random / 4.0 / 100 / [-2, 2]', \n",
    "          'Random / 4.0 / 100', \n",
    "          'Random / 2.0 / 100', \n",
    "          'Random / 1.0 / 100',\n",
    "          'Task / 4.0 / 100',\n",
    "          'Task / 2.0 / 100', \n",
    "          'Task / 1.0 / 100', \n",
    "          'Task / 4.0 / 1000',\n",
    "          'No learning', \n",
    "          'No learning']\n",
    "\n",
    "label_sims = [ ['T = 4 ms', \"T = 2 ms\", \"T = 1 ms\", \"N\"], ['T = 4 ms', \"T = 2 ms\", \"T = 1 ms\", \"N\"]]\n",
    "label_sims_noms = [ ['T = 4', \"T = 2\", \"T = 1\", \"N\"], ['T = 4', \"T = 2\", \"T = 1\", \"N\"]]\n",
    "\n",
    "title = ['random', 'task']\n",
    "\n",
    "sims = [[2, 3, 4, 9], [5, 6, 7, 9]]\n",
    "test_nrs = [0, 0]\n",
    "#test_nrs = [[1, 1, 0, 0, 0, 0, 0], 0, 0, 0]\n",
    "\n",
    "colors = ['#008b4e', '#0083d9', '#8a4df4', '#000000']  \n",
    "\n",
    "for j, sim in enumerate(sims):\n",
    "    \n",
    "    print 'Results for {} ITD sequence'.format(title[j])\n",
    "\n",
    "    bla = [i for i, idx in enumerate(ids) if idx in sim]  \n",
    "    nr_sim_tmp = np.array(nr_sim)[sim]\n",
    "    paths_tmp =  np.array(paths)[bla]\n",
    "    #labels_tmp = np.array(labels)[sim]\n",
    "    labels_tmp = label_sims[j]\n",
    "    labels_tmp_noms = label_sims_noms[j]\n",
    "    ids_tmp = [[i for _ in range(x)] for i, x in enumerate(nr_sim_tmp)]\n",
    "    ids_tmp = [item for sublist in ids_tmp for item in sublist]\n",
    "    \n",
    "    if test_nrs[j] == 0:\n",
    "        test_nr = [0]*len(paths_tmp) \n",
    "    else:\n",
    "        test_nr = test_nrs[j]\n",
    "    \n",
    "    plotMonauralBarplot(paths_tmp, colors, labels_tmp_noms, 200000000, ids_tmp, nr_sim_tmp)\n",
    "    plt.savefig('figures/chapter4/monauralBar_{}.pdf'.format(title[j]))\n",
    "\n",
    "    x = loadMeasurementsPerItd(paths_tmp, ids_tmp, test_nr)\n",
    "    modpre_per_itd, vspre_per_itd, mod_per_itd, vs_per_itd, nr_per_itd, itdoptions = x\n",
    "    plotDistribution(labels_tmp, colors, nr_per_itd, itdoptions, width=0.08, zero=False)\n",
    "    plt.savefig('figures/chapter4/distribution_freq_{}.pdf'.format(title[j]))\n",
    "\n",
    "    plotModulationOrVectorstrength(mod_per_itd, modpre_per_itd, labels_tmp_noms, 'Modulation $M$', colors)\n",
    "    plt.savefig('figures/chapter4/modulation_freq_{}.pdf'.format(title[j]))\n",
    "\n",
    "    plotModulationOrVectorstrength(vs_per_itd, vspre_per_itd, labels_tmp_noms, 'Vector strength $V$', colors)\n",
    "    plt.savefig('figures/chapter4/vectorstrength_freq_{}.pdf'.format(title[j]))\n",
    "    \n",
    "    plt.show()\n"
   ]
  },
  {
   "cell_type": "code",
   "execution_count": null,
   "metadata": {
    "collapsed": true
   },
   "outputs": [],
   "source": []
  }
 ],
 "metadata": {
  "kernelspec": {
   "display_name": "Python 2",
   "language": "python",
   "name": "python2"
  },
  "language_info": {
   "codemirror_mode": {
    "name": "ipython",
    "version": 2
   },
   "file_extension": ".py",
   "mimetype": "text/x-python",
   "name": "python",
   "nbconvert_exporter": "python",
   "pygments_lexer": "ipython2",
   "version": "2.7.11"
  }
 },
 "nbformat": 4,
 "nbformat_minor": 1
}
