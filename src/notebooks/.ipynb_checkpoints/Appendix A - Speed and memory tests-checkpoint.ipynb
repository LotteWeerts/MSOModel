{
 "cells": [
  {
   "cell_type": "code",
   "execution_count": 6,
   "metadata": {
    "collapsed": false
   },
   "outputs": [],
   "source": [
    "import sys\n",
    "sys.path.append(\"..\")\n",
    "from MSOModelModule.fancyPlot import basiccolors, cleanAxes\n",
    "from matplotlib import pyplot as plt\n",
    "colors = basiccolors()"
   ]
  },
  {
   "cell_type": "markdown",
   "metadata": {},
   "source": [
    "# Speed and memory test for code variations\n",
    "\n",
    "This notebook shows the results of several memory and speed tests, including the shell commands that can be used to run these tests. \n",
    "\n",
    "**Note**: Do *not* rely on the iPython notebook for the memory tests. Due to the way the Kernel stores variables the memory usage will seem larger than it actually is.  "
   ]
  },
  {
   "cell_type": "markdown",
   "metadata": {},
   "source": [
    "## Memory test for various batchsizes"
   ]
  },
  {
   "cell_type": "raw",
   "metadata": {},
   "source": [
    "python ../MSOModelModule/core.py --t 100000 --b 1000 --v 3.0 --i 500 --M 1 --d 0.005 --I '[2.0]' --T 4.0 --memorySavingMode 0 --profileBatch"
   ]
  },
  {
   "cell_type": "code",
   "execution_count": 7,
   "metadata": {
    "collapsed": false
   },
   "outputs": [
    {
     "ename": "IOError",
     "evalue": "[Errno 2] No such file or directory: '../../report/memTestBatch.pdf'",
     "output_type": "error",
     "traceback": [
      "\u001b[0;31m---------------------------------------------------------------------------\u001b[0m",
      "\u001b[0;31mIOError\u001b[0m                                   Traceback (most recent call last)",
      "\u001b[0;32m<ipython-input-7-24923c019bb9>\u001b[0m in \u001b[0;36m<module>\u001b[0;34m()\u001b[0m\n\u001b[1;32m     13\u001b[0m \u001b[0mcleanAxes\u001b[0m\u001b[0;34m(\u001b[0m\u001b[0;34m[\u001b[0m\u001b[0max\u001b[0m\u001b[0;34m]\u001b[0m\u001b[0;34m)\u001b[0m\u001b[0;34m\u001b[0m\u001b[0m\n\u001b[1;32m     14\u001b[0m \u001b[0mplt\u001b[0m\u001b[0;34m.\u001b[0m\u001b[0mtight_layout\u001b[0m\u001b[0;34m(\u001b[0m\u001b[0;34m)\u001b[0m\u001b[0;34m\u001b[0m\u001b[0m\n\u001b[0;32m---> 15\u001b[0;31m \u001b[0mplt\u001b[0m\u001b[0;34m.\u001b[0m\u001b[0msavefig\u001b[0m\u001b[0;34m(\u001b[0m\u001b[0;34m'../../report/memTestBatch.pdf'\u001b[0m\u001b[0;34m)\u001b[0m\u001b[0;34m\u001b[0m\u001b[0m\n\u001b[0m\u001b[1;32m     16\u001b[0m \u001b[0mplt\u001b[0m\u001b[0;34m.\u001b[0m\u001b[0mshow\u001b[0m\u001b[0;34m(\u001b[0m\u001b[0;34m)\u001b[0m\u001b[0;34m\u001b[0m\u001b[0m\n",
      "\u001b[0;32m/usr/local/lib/python2.7/site-packages/matplotlib/pyplot.pyc\u001b[0m in \u001b[0;36msavefig\u001b[0;34m(*args, **kwargs)\u001b[0m\n\u001b[1;32m    686\u001b[0m \u001b[0;32mdef\u001b[0m \u001b[0msavefig\u001b[0m\u001b[0;34m(\u001b[0m\u001b[0;34m*\u001b[0m\u001b[0margs\u001b[0m\u001b[0;34m,\u001b[0m \u001b[0;34m**\u001b[0m\u001b[0mkwargs\u001b[0m\u001b[0;34m)\u001b[0m\u001b[0;34m:\u001b[0m\u001b[0;34m\u001b[0m\u001b[0m\n\u001b[1;32m    687\u001b[0m     \u001b[0mfig\u001b[0m \u001b[0;34m=\u001b[0m \u001b[0mgcf\u001b[0m\u001b[0;34m(\u001b[0m\u001b[0;34m)\u001b[0m\u001b[0;34m\u001b[0m\u001b[0m\n\u001b[0;32m--> 688\u001b[0;31m     \u001b[0mres\u001b[0m \u001b[0;34m=\u001b[0m \u001b[0mfig\u001b[0m\u001b[0;34m.\u001b[0m\u001b[0msavefig\u001b[0m\u001b[0;34m(\u001b[0m\u001b[0;34m*\u001b[0m\u001b[0margs\u001b[0m\u001b[0;34m,\u001b[0m \u001b[0;34m**\u001b[0m\u001b[0mkwargs\u001b[0m\u001b[0;34m)\u001b[0m\u001b[0;34m\u001b[0m\u001b[0m\n\u001b[0m\u001b[1;32m    689\u001b[0m     \u001b[0mfig\u001b[0m\u001b[0;34m.\u001b[0m\u001b[0mcanvas\u001b[0m\u001b[0;34m.\u001b[0m\u001b[0mdraw_idle\u001b[0m\u001b[0;34m(\u001b[0m\u001b[0;34m)\u001b[0m   \u001b[0;31m# need this if 'transparent=True' to reset colors\u001b[0m\u001b[0;34m\u001b[0m\u001b[0m\n\u001b[1;32m    690\u001b[0m     \u001b[0;32mreturn\u001b[0m \u001b[0mres\u001b[0m\u001b[0;34m\u001b[0m\u001b[0m\n",
      "\u001b[0;32m/usr/local/lib/python2.7/site-packages/matplotlib/figure.pyc\u001b[0m in \u001b[0;36msavefig\u001b[0;34m(self, *args, **kwargs)\u001b[0m\n\u001b[1;32m   1563\u001b[0m             \u001b[0mself\u001b[0m\u001b[0;34m.\u001b[0m\u001b[0mset_frameon\u001b[0m\u001b[0;34m(\u001b[0m\u001b[0mframeon\u001b[0m\u001b[0;34m)\u001b[0m\u001b[0;34m\u001b[0m\u001b[0m\n\u001b[1;32m   1564\u001b[0m \u001b[0;34m\u001b[0m\u001b[0m\n\u001b[0;32m-> 1565\u001b[0;31m         \u001b[0mself\u001b[0m\u001b[0;34m.\u001b[0m\u001b[0mcanvas\u001b[0m\u001b[0;34m.\u001b[0m\u001b[0mprint_figure\u001b[0m\u001b[0;34m(\u001b[0m\u001b[0;34m*\u001b[0m\u001b[0margs\u001b[0m\u001b[0;34m,\u001b[0m \u001b[0;34m**\u001b[0m\u001b[0mkwargs\u001b[0m\u001b[0;34m)\u001b[0m\u001b[0;34m\u001b[0m\u001b[0m\n\u001b[0m\u001b[1;32m   1566\u001b[0m \u001b[0;34m\u001b[0m\u001b[0m\n\u001b[1;32m   1567\u001b[0m         \u001b[0;32mif\u001b[0m \u001b[0mframeon\u001b[0m\u001b[0;34m:\u001b[0m\u001b[0;34m\u001b[0m\u001b[0m\n",
      "\u001b[0;32m/usr/local/lib/python2.7/site-packages/matplotlib/backend_bases.pyc\u001b[0m in \u001b[0;36mprint_figure\u001b[0;34m(self, filename, dpi, facecolor, edgecolor, orientation, format, **kwargs)\u001b[0m\n\u001b[1;32m   2230\u001b[0m                 \u001b[0morientation\u001b[0m\u001b[0;34m=\u001b[0m\u001b[0morientation\u001b[0m\u001b[0;34m,\u001b[0m\u001b[0;34m\u001b[0m\u001b[0m\n\u001b[1;32m   2231\u001b[0m                 \u001b[0mbbox_inches_restore\u001b[0m\u001b[0;34m=\u001b[0m\u001b[0m_bbox_inches_restore\u001b[0m\u001b[0;34m,\u001b[0m\u001b[0;34m\u001b[0m\u001b[0m\n\u001b[0;32m-> 2232\u001b[0;31m                 **kwargs)\n\u001b[0m\u001b[1;32m   2233\u001b[0m         \u001b[0;32mfinally\u001b[0m\u001b[0;34m:\u001b[0m\u001b[0;34m\u001b[0m\u001b[0m\n\u001b[1;32m   2234\u001b[0m             \u001b[0;32mif\u001b[0m \u001b[0mbbox_inches\u001b[0m \u001b[0;32mand\u001b[0m \u001b[0mrestore_bbox\u001b[0m\u001b[0;34m:\u001b[0m\u001b[0;34m\u001b[0m\u001b[0m\n",
      "\u001b[0;32m/usr/local/lib/python2.7/site-packages/matplotlib/backends/backend_pdf.pyc\u001b[0m in \u001b[0;36mprint_pdf\u001b[0;34m(self, filename, **kwargs)\u001b[0m\n\u001b[1;32m   2526\u001b[0m             \u001b[0mfile\u001b[0m \u001b[0;34m=\u001b[0m \u001b[0mfilename\u001b[0m\u001b[0;34m.\u001b[0m\u001b[0m_file\u001b[0m\u001b[0;34m\u001b[0m\u001b[0m\n\u001b[1;32m   2527\u001b[0m         \u001b[0;32melse\u001b[0m\u001b[0;34m:\u001b[0m\u001b[0;34m\u001b[0m\u001b[0m\n\u001b[0;32m-> 2528\u001b[0;31m             \u001b[0mfile\u001b[0m \u001b[0;34m=\u001b[0m \u001b[0mPdfFile\u001b[0m\u001b[0;34m(\u001b[0m\u001b[0mfilename\u001b[0m\u001b[0;34m)\u001b[0m\u001b[0;34m\u001b[0m\u001b[0m\n\u001b[0m\u001b[1;32m   2529\u001b[0m         \u001b[0;32mtry\u001b[0m\u001b[0;34m:\u001b[0m\u001b[0;34m\u001b[0m\u001b[0m\n\u001b[1;32m   2530\u001b[0m             \u001b[0mfile\u001b[0m\u001b[0;34m.\u001b[0m\u001b[0mnewPage\u001b[0m\u001b[0;34m(\u001b[0m\u001b[0mwidth\u001b[0m\u001b[0;34m,\u001b[0m \u001b[0mheight\u001b[0m\u001b[0;34m)\u001b[0m\u001b[0;34m\u001b[0m\u001b[0m\n",
      "\u001b[0;32m/usr/local/lib/python2.7/site-packages/matplotlib/backends/backend_pdf.pyc\u001b[0m in \u001b[0;36m__init__\u001b[0;34m(self, filename)\u001b[0m\n\u001b[1;32m    420\u001b[0m         \u001b[0mself\u001b[0m\u001b[0;34m.\u001b[0m\u001b[0mtell_base\u001b[0m \u001b[0;34m=\u001b[0m \u001b[0;36m0\u001b[0m\u001b[0;34m\u001b[0m\u001b[0m\n\u001b[1;32m    421\u001b[0m         \u001b[0;32mif\u001b[0m \u001b[0mis_string_like\u001b[0m\u001b[0;34m(\u001b[0m\u001b[0mfilename\u001b[0m\u001b[0;34m)\u001b[0m\u001b[0;34m:\u001b[0m\u001b[0;34m\u001b[0m\u001b[0m\n\u001b[0;32m--> 422\u001b[0;31m             \u001b[0mfh\u001b[0m \u001b[0;34m=\u001b[0m \u001b[0mopen\u001b[0m\u001b[0;34m(\u001b[0m\u001b[0mfilename\u001b[0m\u001b[0;34m,\u001b[0m \u001b[0;34m'wb'\u001b[0m\u001b[0;34m)\u001b[0m\u001b[0;34m\u001b[0m\u001b[0m\n\u001b[0m\u001b[1;32m    423\u001b[0m         \u001b[0;32melif\u001b[0m \u001b[0mis_writable_file_like\u001b[0m\u001b[0;34m(\u001b[0m\u001b[0mfilename\u001b[0m\u001b[0;34m)\u001b[0m\u001b[0;34m:\u001b[0m\u001b[0;34m\u001b[0m\u001b[0m\n\u001b[1;32m    424\u001b[0m             \u001b[0;32mtry\u001b[0m\u001b[0;34m:\u001b[0m\u001b[0;34m\u001b[0m\u001b[0m\n",
      "\u001b[0;31mIOError\u001b[0m: [Errno 2] No such file or directory: '../../report/memTestBatch.pdf'"
     ]
    }
   ],
   "source": [
    "batchsizes = [80, 100, 200, 500, 1000, 2000]\n",
    "mode_0 = [897.34375, 1294.8828125, 2184.8984375, 3563.3515625, 6751.71484375, 9723.4375]\n",
    "mode_1 = [356.17578125, 562.07421875, 1032.296875, 1739.27734375, 3335.63671875, 5732.078125]\n",
    "mode_2 = [225.03125, 302.9375, 554.4921875, 924.00390625, 1762.6328125, 3486.859375]\n",
    "\n",
    "fig, ax = plt.subplots(1, figsize=(8, 4))\n",
    "ax.plot(batchsizes, mode_0, color=colors[0], lw=2.0, marker=\"d\", label=\"Mode 0\")\n",
    "ax.plot(batchsizes, mode_1, color=colors[1], lw=2.0, marker=\"o\", label=\"Mode 1\")\n",
    "ax.plot(batchsizes, mode_2, color=colors[2], lw=2.0, marker=\"*\", label=\"Mode 2\")\n",
    "ax.set_xlabel('Batchsize')\n",
    "ax.set_ylabel('Memory usage (MB)')\n",
    "ax.legend(loc=2, frameon=False, fontsize=19)\n",
    "cleanAxes([ax])\n",
    "plt.tight_layout()\n",
    "plt.savefig('../../report/memTestBatch.pdf')\n",
    "plt.show()"
   ]
  },
  {
   "cell_type": "markdown",
   "metadata": {},
   "source": [
    "## Memory test for various number of MSO neurons"
   ]
  },
  {
   "cell_type": "raw",
   "metadata": {},
   "source": [
    "python ../MSOModelModule/core.py --t 200 --b 100 --v 3.0 --i 500 --M 1 --d 0.005 --I '[2.0]' --T 4.0 --memorySavingMode 0 --profileMSOneurons"
   ]
  },
  {
   "cell_type": "code",
   "execution_count": null,
   "metadata": {
    "collapsed": false
   },
   "outputs": [],
   "source": [
    "MSO_neurons = [1, 2, 4, 8, 20, 50, 100]\n",
    "mode_0 = [1093.62109375, 1778.1171875, 2159.1875, 3618.484375, 7754.6484375, 8920.28125, 9102.19140625]\n",
    "mode_1 = [427.83203125, 764.375, 1103.76171875, 1794.4921875, 3826.40234375, 8901.85546875, 11660.1015625]\n",
    "mode_2 = [267.234375, 268.49609375, 270.16015625, 272.08203125, 280.8828125, 297.2109375, 319.88671875]\n",
    "\n",
    "fig, ax = plt.subplots(1, figsize=(8, 4))\n",
    "ax.plot(MSO_neurons, mode_0, color=colors[0], lw=2.0, marker=\"d\", label=\"Mode 0\")\n",
    "ax.plot(MSO_neurons, mode_1, color=colors[1], lw=2.0, marker=\"o\", label=\"Mode 1\")\n",
    "ax.plot(MSO_neurons, mode_2, color=colors[2], lw=2.0, marker=\"*\", label=\"Mode 2\")\n",
    "ax.set_xlabel('No. of MSO neurons')\n",
    "ax.set_ylabel('Memory usage (MB)')\n",
    "ax.legend(loc=2, frameon=False, fontsize=19, bbox_to_anchor=(0.0, 1.1))\n",
    "cleanAxes([ax])\n",
    "plt.tight_layout()\n",
    "plt.savefig('../../report/memTestMSO.pdf')\n",
    "plt.show()"
   ]
  },
  {
   "cell_type": "markdown",
   "metadata": {},
   "source": [
    "## Speed test for various batch sizes\n",
    "\n",
    "For the speed test all batches will run until they sum up to the same total time"
   ]
  },
  {
   "cell_type": "raw",
   "metadata": {},
   "source": [
    "python ../MSOModelModule/core.py --t 200 --b 100 --v 3.0 --i 500 --M 1 --d 0.005 --I '[2.0]' --T 4.0 --memorySavingMode 0 —speedtest"
   ]
  },
  {
   "cell_type": "code",
   "execution_count": null,
   "metadata": {
    "collapsed": false
   },
   "outputs": [],
   "source": [
    "batchsizes = [80, 100, 200, 500, 1000, 2000]\n",
    "\n",
    "mode_0 = [71.93987489, 69.89002299, 72.69163179, 74.53558207, 75.24955702, 83.31504488]\n",
    "mode_1 = [75.19978499, 73.92276311, 72.28623915, 76.70299077, 74.43069196, 74.95429921]\n",
    "mode_2 = [79.85361195, 78.428828, 77.84217286, 80.44880509, 73.38288808, 74.691746  ]\n",
    "\n",
    "fig, ax = plt.subplots(1, figsize=(8, 4))\n",
    "ax.plot(batchsizes, mode_0, color=colors[0], lw=2.0, marker=\"d\", label=\"Mode 0\")\n",
    "ax.plot(batchsizes, mode_1, color=colors[1], lw=2.0, marker=\"o\", label=\"Mode 1\")\n",
    "ax.plot(batchsizes, mode_2, color=colors[2], lw=2.0, marker=\"*\", label=\"Mode 2\")\n",
    "ax.set_xlabel('Batchsize')\n",
    "ax.set_ylabel('Run time (seconds)')\n",
    "ax.set_ylim([60, 100])\n",
    "ax.legend(loc=2, frameon=False, fontsize=19)\n",
    "cleanAxes([ax])\n",
    "plt.tight_layout()\n",
    "plt.savefig('../../report/speedTestBatch.pdf')\n",
    "plt.show()"
   ]
  },
  {
   "cell_type": "markdown",
   "metadata": {},
   "source": [
    "## Speed test for various number of MSO neurons"
   ]
  },
  {
   "cell_type": "raw",
   "metadata": {},
   "source": [
    "python ../MSOModelModule/core.py --t 200 --b 100 --v 3.0 --i 500 --M 1 --d 0.005 --I '[2.0]' --T 4.0 --memorySavingMode 0 --speedTestMSO"
   ]
  },
  {
   "cell_type": "code",
   "execution_count": null,
   "metadata": {
    "collapsed": false
   },
   "outputs": [],
   "source": [
    "MSO_neurons = [1, 2, 4, 8, 20, 50, 100]\n",
    "mode_0 = [3.81854606, 5.61840701, 9.07747602, 15.67999887, 46.39822507, 205.58969188, 1959.65922499]\n",
    "mode_1 = [3.8966341, 4.991256, 6.94584417, 10.64918303, 23.09755397, 65.61181307, 148.74470901]\n",
    "mode_2 = [3.71844292, 4.19347596, 5.12449598, 6.92156506, 12.58354616, 29.4170742, 63.77098989]\n",
    "\n",
    "fig, ax = plt.subplots(1, figsize=(8, 4))\n",
    "ax.plot(MSO_neurons, mode_0, color=colors[0], lw=2.0, marker=\"d\", label=\"Mode 0\")\n",
    "ax.plot(MSO_neurons, mode_1, color=colors[1], lw=2.0, marker=\"o\", label=\"Mode 1\")\n",
    "ax.plot(MSO_neurons, mode_2, color=colors[2], lw=2.0, marker=\"*\", label=\"Mode 2\")\n",
    "ax.set_xlabel('No. of MSO neurons')\n",
    "ax.set_ylabel('Run time (s)')\n",
    "ax.legend(loc=2, frameon=False, fontsize=19, bbox_to_anchor=(0.0, 1.1))\n",
    "cleanAxes([ax])\n",
    "plt.tight_layout()\n",
    "plt.savefig('../../report/speedTestMSO.pdf')\n",
    "plt.show()\n"
   ]
  },
  {
   "cell_type": "markdown",
   "metadata": {},
   "source": [
    "## Speed test for parallelisation \n",
    "\n",
    "**Note** The parallel code is not thoroughly test, and some preliminary tests showed unexpected behaviour where sometimes weights of particular batches were not updated. This is possibly caused by the usage of shared memory in the MSO class, which future implementations should avoid. "
   ]
  },
  {
   "cell_type": "code",
   "execution_count": null,
   "metadata": {
    "collapsed": false
   },
   "outputs": [],
   "source": [
    "parallel_1 = [3.71844292, 4.19347596, 5.12449598, 6.92156506, 12.58354616, 29.4170742, 63.77098989]\n",
    "parallel_8 = [7.82792807, 8.08430696, 8.41040111, 9.03768206, 11.0801928, 15.29816985, 22.45261288]\n",
    "parallel_4 = [4.26323295, 4.30348015, 4.35653496, 5.01869011, 6.74043489, 11.11907196, 19.63360691]\n",
    "parallel_2 = [4.17172408, 4.16413689, 4.67471313, 5.69143605, 8.55933905, 16.33512807, 31.22348118]\n",
    "\n",
    "fig, ax = plt.subplots(1, figsize=(8, 4))\n",
    "ax.plot(MSO_neurons, parallel_1, color=colors[0], lw=2.0, marker=\"d\", label=\"Parallel 1\")\n",
    "ax.plot(MSO_neurons, parallel_2, color=colors[1], lw=2.0, marker=\"o\", label=\"Parallel 2\")\n",
    "ax.plot(MSO_neurons, parallel_4, color=colors[2], lw=2.0, marker=\"*\", label=\"Parallel 4\")\n",
    "ax.plot(MSO_neurons, parallel_8, color=colors[3], lw=2.0, marker=\"*\", label=\"Parallel 8\")\n",
    "ax.set_xlabel('No. of MSO neurons')\n",
    "ax.set_ylabel('Run time (s)')\n",
    "ax.legend(loc=2, frameon=False, fontsize=19, bbox_to_anchor=(0.0, 1.1))\n",
    "cleanAxes([ax])\n",
    "plt.tight_layout()\n",
    "plt.savefig('../../report/parallelTest.pdf')\n",
    "plt.show()"
   ]
  },
  {
   "cell_type": "code",
   "execution_count": null,
   "metadata": {
    "collapsed": true
   },
   "outputs": [],
   "source": []
  }
 ],
 "metadata": {
  "kernelspec": {
   "display_name": "Python 2",
   "language": "python",
   "name": "python2"
  },
  "language_info": {
   "codemirror_mode": {
    "name": "ipython",
    "version": 2
   },
   "file_extension": ".py",
   "mimetype": "text/x-python",
   "name": "python",
   "nbconvert_exporter": "python",
   "pygments_lexer": "ipython2",
   "version": "2.7.11"
  }
 },
 "nbformat": 4,
 "nbformat_minor": 1
}
